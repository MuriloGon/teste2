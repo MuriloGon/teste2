{
 "cells": [
  {
   "cell_type": "code",
   "execution_count": 1,
   "id": "occupied-recipient",
   "metadata": {},
   "outputs": [],
   "source": [
    "import pandas as pd"
   ]
  },
  {
   "cell_type": "code",
   "execution_count": 24,
   "id": "derived-contents",
   "metadata": {},
   "outputs": [
    {
     "name": "stdout",
     "output_type": "stream",
     "text": [
      "['remotes/origin/branchcomlabelmuitolongohahaha', 'remotes/origin/main', 'remotes/origin/novo2', 'remotes/origin/novobarnch10', 'remotes/origin/novobranch']\n"
     ]
    }
   ],
   "source": [
    "BRANCHES_PATH = './data/branches/branches.txt'\n",
    "BRANCHES = open(BRANCHES_PATH, \"r\").read().split('\\n')[0:-1]\n",
    "GIT_REPO = 'https://github.com/MuriloGon/teste2/'"
   ]
  },
  {
   "cell_type": "code",
   "execution_count": 63,
   "id": "distinct-arrangement",
   "metadata": {},
   "outputs": [],
   "source": [
    "def get_branches():\n",
    "    output = []\n",
    "    for branch in BRANCHES:\n",
    "        output.append(branch.split('/')[-1])\n",
    "    return output\n",
    "    \n",
    "def branch_url(branch):\n",
    "    return GIT_REPO + 'tree/' + branch\n",
    "\n",
    "def write_readme(arrays):\n",
    "    try:\n",
    "        file = open(\"README.asc\", \"x\")\n",
    "    except:\n",
    "        file = open(\"README.asc\", 'w')\n",
    "\n",
    "    for x in arrays:\n",
    "        for y in x:\n",
    "            file.write(y+'\\n')\n",
    "            \n",
    "    file.close()"
   ]
  },
  {
   "cell_type": "code",
   "execution_count": 69,
   "id": "impressed-peoples",
   "metadata": {},
   "outputs": [
    {
     "name": "stdout",
     "output_type": "stream",
     "text": [
      "['=== Trybe Projects', '== Summary', '. https://github.com/MuriloGon/teste2/tree/branchcomlabelmuitolongohahaha[branchcomlabelmuitolongohahaha]', '. https://github.com/MuriloGon/teste2/tree/main[main]', '. https://github.com/MuriloGon/teste2/tree/novo2[novo2]', '. https://github.com/MuriloGon/teste2/tree/novobarnch10[novobarnch10]', '. https://github.com/MuriloGon/teste2/tree/novobranch[novobranch]']\n"
     ]
    }
   ],
   "source": [
    "def header():\n",
    "    output = []\n",
    "    branches = get_branches()\n",
    "\n",
    "    output.append(f'=== Trybe Projects')\n",
    "    output.append(f'== Summary')\n",
    "    \n",
    "    for branch in branches:\n",
    "        output.append(f'. {branch_url(branch)}[{branch}]')\n",
    "    return output\n",
    "\n",
    "print(header())"
   ]
  },
  {
   "cell_type": "code",
   "execution_count": 70,
   "id": "steady-alert",
   "metadata": {},
   "outputs": [],
   "source": [
    "write_readme([header()])"
   ]
  },
  {
   "cell_type": "code",
   "execution_count": null,
   "id": "bearing-sacramento",
   "metadata": {},
   "outputs": [],
   "source": []
  }
 ],
 "metadata": {
  "kernelspec": {
   "display_name": "Python 3",
   "language": "python",
   "name": "python3"
  },
  "language_info": {
   "codemirror_mode": {
    "name": "ipython",
    "version": 3
   },
   "file_extension": ".py",
   "mimetype": "text/x-python",
   "name": "python",
   "nbconvert_exporter": "python",
   "pygments_lexer": "ipython3",
   "version": "3.8.6"
  }
 },
 "nbformat": 4,
 "nbformat_minor": 5
}
